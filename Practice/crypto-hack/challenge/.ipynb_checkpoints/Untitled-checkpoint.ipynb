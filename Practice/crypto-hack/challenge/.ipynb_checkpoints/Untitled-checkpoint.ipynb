{
 "cells": [
  {
   "cell_type": "code",
   "execution_count": 3,
   "id": "23b1496c-11ad-4f25-9d56-b0b41d40c8f7",
   "metadata": {},
   "outputs": [
    {
     "name": "stdout",
     "output_type": "stream",
     "text": [
      "crypto{0x10_15_my_f4v0ur173_by7e}\n"
     ]
    }
   ],
   "source": [
    "from Crypto.Util.number import long_to_bytes\n",
    "a = 0x73626960647f6b206821204f21254f7d694f7624662065622127234f726927756d\n",
    "a = long_to_bytes(a)\n",
    "for i in range(255):\n",
    "    b = \"\"\n",
    "    for j in a:\n",
    "        b += chr(i ^^ j)\n",
    "    if b.startswith(\"crypt\"):\n",
    "        print(b)"
   ]
  },
  {
   "cell_type": "code",
   "execution_count": 34,
   "id": "5b434bd4-8636-465d-a371-32c0dc503b7a",
   "metadata": {},
   "outputs": [
    {
     "name": "stdout",
     "output_type": "stream",
     "text": [
      "crypto{1f_y0u_Kn0w_En0uGH_y0u_Kn0w_1t_4ll}\n"
     ]
    }
   ],
   "source": [
    "a = 0x0e0b213f26041e480b26217f27342e175d0e070a3c5b103e2526217f27342e175d0e077e263451150104\n",
    "a = long_to_bytes(a)\n",
    "start = \"crypto{\"\n",
    "\n",
    "key = \"\"\n",
    "for i, val in enumerate(start):\n",
    "    for j in range(0xff):\n",
    "        if (a[i] ^^ j) == ord(val):\n",
    "            key += (chr(j))\n",
    "            break\n",
    "key += \"y\"\n",
    "\n",
    "flag = \"\"\n",
    "for i in range(len(a)):\n",
    "    tmp = a[i] ^^ ord(key[i%len(key)])\n",
    "    flag += chr(tmp)\n",
    "print(flag)"
   ]
  },
  {
   "cell_type": "code",
   "execution_count": 1,
   "id": "3b04c0b7-2f71-4c8a-8b57-51816397440a",
   "metadata": {},
   "outputs": [
    {
     "name": "stdout",
     "output_type": "stream",
     "text": [
      "crypto{ASCII_pr1nt4bl3}\n"
     ]
    }
   ],
   "source": [
    "a = [99, 114, 121, 112, 116, 111, 123, 65, 83, 67, 73, 73, 95, 112, 114, 49, 110, 116, 52, 98, 108, 51, 125]\n",
    "print(\"\".join(chr(i) for i in a))"
   ]
  },
  {
   "cell_type": "code",
   "execution_count": 5,
   "id": "7a450e13-2bee-4eef-9c74-3641b3a9cd77",
   "metadata": {},
   "outputs": [
    {
     "name": "stdout",
     "output_type": "stream",
     "text": [
      "b'crypto/Base+64+Encoding+is+Web+Safe/'\n"
     ]
    }
   ],
   "source": [
    "from base64 import b64encode\n",
    "from Crypto.Util.number import long_to_bytes\n",
    "\n",
    "a = 0x72bca9b68fc16ac7beeb8f849dca1d8a783e8acf9679bf9269f7bf\n",
    "a = long_to_bytes(a)\n",
    "a = b64encode(a)\n",
    "print(a)"
   ]
  },
  {
   "cell_type": "code",
   "execution_count": 3,
   "id": "20c9fdd4-3646-4972-b156-40e012c0c8fd",
   "metadata": {},
   "outputs": [
    {
     "data": {
      "text/plain": [
       "1512"
      ]
     },
     "execution_count": 3,
     "metadata": {},
     "output_type": "execute_result"
    }
   ],
   "source": [
    "a = 66528\n",
    "b = 52920\n",
    "gcd(a,b)"
   ]
  },
  {
   "cell_type": "code",
   "execution_count": 12,
   "id": "9ca786c9-be34-4b03-bbf1-7bd57be4c21a",
   "metadata": {},
   "outputs": [
    {
     "ename": "IndexError",
     "evalue": "tuple index out of range",
     "output_type": "error",
     "traceback": [
      "\u001b[0;31m---------------------------------------------------------------------------\u001b[0m",
      "\u001b[0;31mIndexError\u001b[0m                                Traceback (most recent call last)",
      "Cell \u001b[0;32mIn [13], line 4\u001b[0m\n\u001b[1;32m      2\u001b[0m q \u001b[38;5;241m=\u001b[39m Integer(\u001b[38;5;241m32321\u001b[39m)\n\u001b[1;32m      3\u001b[0m u, v \u001b[38;5;241m=\u001b[39m var(\u001b[38;5;124m\"\u001b[39m\u001b[38;5;124mu v\u001b[39m\u001b[38;5;124m\"\u001b[39m)\n\u001b[0;32m----> 4\u001b[0m \u001b[43msolve\u001b[49m\u001b[43m(\u001b[49m\u001b[43m(\u001b[49m\u001b[43mp\u001b[49m\u001b[43m \u001b[49m\u001b[38;5;241;43m*\u001b[39;49m\u001b[43m \u001b[49m\u001b[43mu\u001b[49m\u001b[43m)\u001b[49m\u001b[43m \u001b[49m\u001b[38;5;241;43m+\u001b[39;49m\u001b[43m \u001b[49m\u001b[43m(\u001b[49m\u001b[43mq\u001b[49m\u001b[43m \u001b[49m\u001b[38;5;241;43m*\u001b[39;49m\u001b[43m \u001b[49m\u001b[43mv\u001b[49m\u001b[43m)\u001b[49m\u001b[43m \u001b[49m\u001b[38;5;241;43m==\u001b[39;49m\u001b[43m \u001b[49m\u001b[43mInteger\u001b[49m\u001b[43m(\u001b[49m\u001b[38;5;241;43m10\u001b[39;49m\u001b[43m)\u001b[49m\u001b[43m)\u001b[49m\n",
      "File \u001b[0;32m/usr/lib/python3.10/site-packages/sage/symbolic/relation.py:1045\u001b[0m, in \u001b[0;36msolve\u001b[0;34m(f, *args, **kwds)\u001b[0m\n\u001b[1;32m   1043\u001b[0m     x \u001b[38;5;241m=\u001b[39m args\n\u001b[1;32m   1044\u001b[0m \u001b[38;5;28;01melse\u001b[39;00m:\n\u001b[0;32m-> 1045\u001b[0m     x \u001b[38;5;241m=\u001b[39m \u001b[43margs\u001b[49m\u001b[43m[\u001b[49m\u001b[38;5;241;43m0\u001b[39;49m\u001b[43m]\u001b[49m\n\u001b[1;32m   1046\u001b[0m \u001b[38;5;28;01mif\u001b[39;00m \u001b[38;5;28misinstance\u001b[39m(x, (\u001b[38;5;28mlist\u001b[39m, \u001b[38;5;28mtuple\u001b[39m)):\n\u001b[1;32m   1047\u001b[0m     \u001b[38;5;28;01mfor\u001b[39;00m i \u001b[38;5;129;01min\u001b[39;00m x:\n",
      "\u001b[0;31mIndexError\u001b[0m: tuple index out of range"
     ]
    }
   ],
   "source": [
    "p = 26513\n",
    "q = 32321\n",
    "u, v = var(\"u v\")\n",
    "solve((p * u) + (q * v) == gcd(p,q)"
   ]
  }
 ],
 "metadata": {
  "kernelspec": {
   "display_name": "SageMath 9.7",
   "language": "sage",
   "name": "sagemath"
  },
  "language_info": {
   "codemirror_mode": {
    "name": "ipython",
    "version": 3
   },
   "file_extension": ".py",
   "mimetype": "text/x-python",
   "name": "python",
   "nbconvert_exporter": "python",
   "pygments_lexer": "ipython3",
   "version": "3.10.7"
  }
 },
 "nbformat": 4,
 "nbformat_minor": 5
}
