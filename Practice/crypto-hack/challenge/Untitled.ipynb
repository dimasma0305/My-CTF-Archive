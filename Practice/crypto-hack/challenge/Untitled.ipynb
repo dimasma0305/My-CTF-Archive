{
 "cells": [
  {
   "cell_type": "code",
   "execution_count": 3,
   "id": "23b1496c-11ad-4f25-9d56-b0b41d40c8f7",
   "metadata": {},
   "outputs": [
    {
     "name": "stdout",
     "output_type": "stream",
     "text": [
      "crypto{0x10_15_my_f4v0ur173_by7e}\n"
     ]
    }
   ],
   "source": [
    "from Crypto.Util.number import long_to_bytes\n",
    "a = 0x73626960647f6b206821204f21254f7d694f7624662065622127234f726927756d\n",
    "a = long_to_bytes(a)\n",
    "for i in range(255):\n",
    "    b = \"\"\n",
    "    for j in a:\n",
    "        b += chr(i ^^ j)\n",
    "    if b.startswith(\"crypt\"):\n",
    "        print(b)"
   ]
  },
  {
   "cell_type": "code",
   "execution_count": 34,
   "id": "5b434bd4-8636-465d-a371-32c0dc503b7a",
   "metadata": {},
   "outputs": [
    {
     "name": "stdout",
     "output_type": "stream",
     "text": [
      "crypto{1f_y0u_Kn0w_En0uGH_y0u_Kn0w_1t_4ll}\n"
     ]
    }
   ],
   "source": [
    "a = 0x0e0b213f26041e480b26217f27342e175d0e070a3c5b103e2526217f27342e175d0e077e263451150104\n",
    "a = long_to_bytes(a)\n",
    "start = \"crypto{\"\n",
    "\n",
    "key = \"\"\n",
    "for i, val in enumerate(start):\n",
    "    for j in range(0xff):\n",
    "        if (a[i] ^^ j) == ord(val):\n",
    "            key += (chr(j))\n",
    "            break\n",
    "key += \"y\"\n",
    "\n",
    "flag = \"\"\n",
    "for i in range(len(a)):\n",
    "    tmp = a[i] ^^ ord(key[i%len(key)])\n",
    "    flag += chr(tmp)\n",
    "print(flag)"
   ]
  },
  {
   "cell_type": "code",
   "execution_count": 1,
   "id": "3b04c0b7-2f71-4c8a-8b57-51816397440a",
   "metadata": {},
   "outputs": [
    {
     "name": "stdout",
     "output_type": "stream",
     "text": [
      "crypto{ASCII_pr1nt4bl3}\n"
     ]
    }
   ],
   "source": [
    "a = [99, 114, 121, 112, 116, 111, 123, 65, 83, 67, 73, 73, 95, 112, 114, 49, 110, 116, 52, 98, 108, 51, 125]\n",
    "print(\"\".join(chr(i) for i in a))"
   ]
  },
  {
   "cell_type": "code",
   "execution_count": 5,
   "id": "7a450e13-2bee-4eef-9c74-3641b3a9cd77",
   "metadata": {},
   "outputs": [
    {
     "name": "stdout",
     "output_type": "stream",
     "text": [
      "b'crypto/Base+64+Encoding+is+Web+Safe/'\n"
     ]
    }
   ],
   "source": [
    "from base64 import b64encode\n",
    "from Crypto.Util.number import long_to_bytes\n",
    "\n",
    "a = 0x72bca9b68fc16ac7beeb8f849dca1d8a783e8acf9679bf9269f7bf\n",
    "a = long_to_bytes(a)\n",
    "a = b64encode(a)\n",
    "print(a)"
   ]
  },
  {
   "cell_type": "code",
   "execution_count": 3,
   "id": "20c9fdd4-3646-4972-b156-40e012c0c8fd",
   "metadata": {},
   "outputs": [
    {
     "data": {
      "text/plain": [
       "1512"
      ]
     },
     "execution_count": 3,
     "metadata": {},
     "output_type": "execute_result"
    }
   ],
   "source": [
    "a = 66528\n",
    "b = 52920\n",
    "gcd(a,b)"
   ]
  },
  {
   "cell_type": "code",
   "execution_count": 5,
   "id": "9ca786c9-be34-4b03-bbf1-7bd57be4c21a",
   "metadata": {},
   "outputs": [
    {
     "data": {
      "text/plain": [
       "[[u == -32321/26513*r5 + 1/26513, v == r5]]"
      ]
     },
     "execution_count": 5,
     "metadata": {},
     "output_type": "execute_result"
    }
   ],
   "source": [
    "p = 26513\n",
    "q = 32321\n",
    "u, v = var(\"u v\")\n",
    "solve((p * u) + (q * v) == gcd(p,q), u, v)"
   ]
  }
 ],
 "metadata": {
  "kernelspec": {
   "display_name": "SageMath 9.7",
   "language": "sage",
   "name": "sagemath"
  },
  "language_info": {
   "codemirror_mode": {
    "name": "ipython",
    "version": 3
   },
   "file_extension": ".py",
   "mimetype": "text/x-python",
   "name": "python",
   "nbconvert_exporter": "python",
   "pygments_lexer": "ipython3",
   "version": "3.10.7"
  }
 },
 "nbformat": 4,
 "nbformat_minor": 5
}
